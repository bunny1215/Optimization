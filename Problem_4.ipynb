{
 "cells": [
  {
   "cell_type": "code",
   "execution_count": 1,
   "metadata": {},
   "outputs": [
    {
     "name": "stdout",
     "output_type": "stream",
     "text": [
      "Problem4\n"
     ]
    }
   ],
   "source": [
    "print(\"Problem4\")"
   ]
  },
  {
   "cell_type": "code",
   "execution_count": 2,
   "metadata": {},
   "outputs": [
    {
     "name": "stdout",
     "output_type": "stream",
     "text": [
      "==== Small Problem (n=10, p=8) ====\n",
      "Optimal solution x*: [0.13875142 0.         0.         0.         0.         0.\n",
      " 0.         0.         0.         0.        ]\n",
      "Optimal cost c^T x*: 0.0761486521722503\n",
      "Status: Optimization terminated successfully. (HiGHS Status 7: Optimal)\n",
      "\n",
      "==== Large Problem (n=100, p=55) ====\n",
      "Optimal solution x*: [0.         0.         0.01809753 0.         0.04834609 0.\n",
      " 0.         0.         0.         0.         0.         0.\n",
      " 0.         0.         0.         0.         0.         0.\n",
      " 0.         0.         0.         0.         0.         0.\n",
      " 0.         0.         0.         0.         0.         0.\n",
      " 0.         0.         0.04001913 0.         0.         0.\n",
      " 0.         0.         0.         0.         0.         0.\n",
      " 0.         0.         0.06937607 0.         0.         0.02770573\n",
      " 0.         0.04067056 0.         0.06837704 0.         0.0120592\n",
      " 0.         0.         0.         0.05245286 0.         0.\n",
      " 0.         0.         0.         0.         0.         0.\n",
      " 0.         0.00943971 0.         0.         0.         0.\n",
      " 0.         0.         0.         0.         0.03275683 0.\n",
      " 0.         0.         0.         0.         0.07218219 0.05351896\n",
      " 0.         0.         0.         0.         0.         0.\n",
      " 0.         0.01756716 0.07183468 0.         0.         0.\n",
      " 0.         0.         0.         0.        ]\n",
      "Optimal cost c^T x*: 0.043303737158779644\n",
      "Status: Optimization terminated successfully. (HiGHS Status 7: Optimal)\n",
      "\n"
     ]
    }
   ],
   "source": [
    "import numpy as np  # NumPy for matrix and vector operations\n",
    "from scipy.optimize import linprog  # linprog for solving linear programming\n",
    "import matplotlib.pyplot as plt  # Optional for visualization\n",
    "\n",
    "# ------------------------------\n",
    "# Example 1: Small problem (n=10, p=8)\n",
    "# ------------------------------\n",
    "np.random.seed(0)  # Fix seed for reproducibility\n",
    "\n",
    "# Generate random data\n",
    "c1 = np.random.rand(10, 1).flatten()  # Objective coefficients vector c\n",
    "A1 = np.random.randn(8, 10) * 3 + 0.2  # Constraint matrix A\n",
    "b1 = -5 + (5 + 5) * np.random.rand(8, 1).flatten()  # Constraint bounds vector b\n",
    "\n",
    "# Solve LP: minimize c^T x s.t. Ax <= b, x >= 0\n",
    "res1 = linprog(c=c1, A_ub=A1, b_ub=b1, bounds=(0, None), method='highs')\n",
    "\n",
    "# Print results for the small problem\n",
    "print(\"==== Small Problem (n=10, p=8) ====\")\n",
    "print(\"Optimal solution x*:\", res1.x)\n",
    "print(\"Optimal cost c^T x*:\", res1.fun)\n",
    "print(\"Status:\", res1.message)\n",
    "print()\n",
    "\n",
    "# ------------------------------\n",
    "# Example 2: Larger problem (n=100, p=55)\n",
    "# ------------------------------\n",
    "# Generate new random data\n",
    "c2 = np.random.rand(100, 1).flatten()  # New objective vector c\n",
    "A2 = np.random.randn(55, 100) * 5 - 1.2  # New constraint matrix A\n",
    "b2 = -1 + (1 + 1) * np.random.rand(55, 1).flatten()  # New constraint bounds b\n",
    "\n",
    "# Solve LP again\n",
    "res2 = linprog(c=c2, A_ub=A2, b_ub=b2, bounds=(0, None), method='highs')\n",
    "\n",
    "# Print results for the large problem\n",
    "print(\"==== Large Problem (n=100, p=55) ====\")\n",
    "print(\"Optimal solution x*:\", res2.x)\n",
    "print(\"Optimal cost c^T x*:\", res2.fun)\n",
    "print(\"Status:\", res2.message)\n",
    "print()\n"
   ]
  }
 ],
 "metadata": {
  "kernelspec": {
   "display_name": "Python 3",
   "language": "python",
   "name": "python3"
  },
  "language_info": {
   "codemirror_mode": {
    "name": "ipython",
    "version": 3
   },
   "file_extension": ".py",
   "mimetype": "text/x-python",
   "name": "python",
   "nbconvert_exporter": "python",
   "pygments_lexer": "ipython3",
   "version": "3.11.1"
  }
 },
 "nbformat": 4,
 "nbformat_minor": 2
}
