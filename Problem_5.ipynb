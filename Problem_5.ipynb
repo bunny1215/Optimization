{
 "cells": [
  {
   "cell_type": "code",
   "execution_count": 7,
   "metadata": {},
   "outputs": [
    {
     "name": "stdout",
     "output_type": "stream",
     "text": [
      "Problem 5\n"
     ]
    }
   ],
   "source": [
    "print(\"Problem 5\")"
   ]
  },
  {
   "cell_type": "code",
   "execution_count": 6,
   "metadata": {},
   "outputs": [
    {
     "name": "stdout",
     "output_type": "stream",
     "text": [
      "==== Case 1: n=100, m=50 ====\n",
      "Convexity check: False\n",
      "Analytical Solution (first 5):\n",
      " [[-0.77721949]\n",
      " [ 0.51543992]\n",
      " [ 0.18418562]\n",
      " [-0.46219993]\n",
      " [ 0.49882287]]\n",
      "Gradient Descent Solution (first 5):\n",
      " [[nan]\n",
      " [nan]\n",
      " [nan]\n",
      " [nan]\n",
      " [nan]]\n",
      "CVX Solution (first 5):\n",
      " [[ 0.12957576]\n",
      " [-0.11776331]\n",
      " [ 0.00036603]\n",
      " [ 0.01926191]\n",
      " [-0.16506777]]\n",
      "||Analytical - CVX|| = 8.368994364637098\n",
      "\n",
      "==== Case 2: n=50, m=100 ====\n",
      "Convexity check: True\n",
      "Analytical Solution (first 5):\n",
      " [[-0.10992539]\n",
      " [ 0.22639632]\n",
      " [-0.01490781]\n",
      " [-0.01882382]\n",
      " [-0.02554648]]\n",
      "Gradient Descent Solution (first 5):\n",
      " [[nan]\n",
      " [nan]\n",
      " [nan]\n",
      " [nan]\n",
      " [nan]]\n",
      "CVX Solution (first 5):\n",
      " [[-0.10992539]\n",
      " [ 0.22639632]\n",
      " [-0.01490781]\n",
      " [-0.01882382]\n",
      " [-0.02554648]]\n",
      "||Analytical - CVX|| = 8.031018926657567e-14\n"
     ]
    },
    {
     "name": "stderr",
     "output_type": "stream",
     "text": [
      "C:\\Users\\장윤수\\AppData\\Local\\Temp\\ipykernel_19728\\594425895.py:33: RuntimeWarning: overflow encountered in matmul\n",
      "  grad = 2 * A.T @ Q @ (A @ x - b)  # Compute gradient\n",
      "C:\\Users\\장윤수\\AppData\\Local\\Temp\\ipykernel_19728\\594425895.py:33: RuntimeWarning: invalid value encountered in matmul\n",
      "  grad = 2 * A.T @ Q @ (A @ x - b)  # Compute gradient\n"
     ]
    }
   ],
   "source": [
    "import numpy as np  # For numerical operations\n",
    "import cvxpy as cp  # For convex optimization\n",
    "\n",
    "# ---------- Case 1: n=100, m=50 ----------\n",
    "n1, m1 = 100, 50  # Dimensions for Case 1\n",
    "A1 = np.random.randn(m1, n1)  # Random matrix A (m1 x n1)\n",
    "b1 = np.random.randn(m1, 1)  # Random vector b (m1 x 1)\n",
    "Q1 = np.random.randn(m1, m1)  # Random matrix Q (m1 x m1)\n",
    "Q1 = Q1 @ Q1.T + 1e-3 * np.eye(m1)  # Make Q symmetric positive definite\n",
    "\n",
    "# ---------- Case 2: n=50, m=100 ----------\n",
    "n2, m2 = 50, 100  # Dimensions for Case 2\n",
    "A2 = np.random.randn(m2, n2)  # Random matrix A (m2 x n2)\n",
    "b2 = np.random.randn(m2, 1)  # Random vector b (m2 x 1)\n",
    "Q2 = np.random.randn(m2, m2)  # Random matrix Q (m2 x m2)\n",
    "Q2 = Q2 @ Q2.T + 1e-3 * np.eye(m2)  # Make Q symmetric positive definite\n",
    "\n",
    "# --------- Check convexity via Hessian matrix A^T Q A ---------\n",
    "def is_convex(A, Q):\n",
    "    H = A.T @ Q @ A  # Compute Hessian\n",
    "    eigvals = np.linalg.eigvalsh(H)  # Eigenvalues\n",
    "    return np.all(eigvals >= 0)  # Check all are non-negative\n",
    "\n",
    "# --------- Closed-form analytical solution ---------\n",
    "def analytical_solution(A, b, Q):\n",
    "    AtQ = A.T @ Q  # Compute A^T Q\n",
    "    return np.linalg.solve(AtQ @ A, AtQ @ b)  # Solve x = (A^T Q A)^-1 A^T Q b\n",
    "\n",
    "# --------- Gradient descent algorithm ---------\n",
    "def grad_descent_solver(A, b, Q, x0, lr=1e-4, max_iter=1000, tol=1e-6):\n",
    "    x = x0.copy()  # Initialize x\n",
    "    for _ in range(max_iter):  # Iterate\n",
    "        grad = 2 * A.T @ Q @ (A @ x - b)  # Compute gradient\n",
    "        x_new = x - lr * grad  # Update x\n",
    "        if np.linalg.norm(x_new - x) < tol:  # Check convergence\n",
    "            break\n",
    "        x = x_new  # Update\n",
    "    return x  # Return final x\n",
    "\n",
    "# --------- CVX optimization ---------\n",
    "def cvx_solution(A, b, Q, n):\n",
    "    x = cp.Variable((n, 1))  # Define variable\n",
    "    objective = cp.Minimize(cp.quad_form(A @ x - b, Q))  # Objective function\n",
    "    problem = cp.Problem(objective)  # Define problem\n",
    "    problem.solve()  # Solve it\n",
    "    return x.value  # Return solution\n",
    "\n",
    "# ---------- Solve for Case 1 ----------\n",
    "print(\"==== Case 1: n=100, m=50 ====\")\n",
    "print(\"Convexity check:\", is_convex(A1, Q1))  # Show convexity\n",
    "x1_ana = analytical_solution(A1, b1, Q1)  # Analytical solution\n",
    "print(\"Analytical Solution (first 5):\\n\", x1_ana[:5])  # Display\n",
    "x1_grad = grad_descent_solver(A1, b1, Q1, np.zeros((n1, 1)))  # Gradient descent\n",
    "print(\"Gradient Descent Solution (first 5):\\n\", x1_grad[:5])\n",
    "x1_cvx = cvx_solution(A1, b1, Q1, n1)  # CVX solution\n",
    "print(\"CVX Solution (first 5):\\n\", x1_cvx[:5])\n",
    "print(\"||Analytical - CVX|| =\", np.linalg.norm(x1_ana - x1_cvx))  # Difference\n",
    "\n",
    "# ---------- Solve for Case 2 ----------\n",
    "print(\"\\n==== Case 2: n=50, m=100 ====\")\n",
    "print(\"Convexity check:\", is_convex(A2, Q2))  # Show convexity\n",
    "x2_ana = analytical_solution(A2, b2, Q2)  # Analytical solution\n",
    "print(\"Analytical Solution (first 5):\\n\", x2_ana[:5])\n",
    "x2_grad = grad_descent_solver(A2, b2, Q2, np.zeros((n2, 1)))  # Gradient descent\n",
    "print(\"Gradient Descent Solution (first 5):\\n\", x2_grad[:5])\n",
    "x2_cvx = cvx_solution(A2, b2, Q2, n2)  # CVX solution\n",
    "print(\"CVX Solution (first 5):\\n\", x2_cvx[:5])\n",
    "print(\"||Analytical - CVX|| =\", np.linalg.norm(x2_ana - x2_cvx))  # Difference\n"
   ]
  }
 ],
 "metadata": {
  "kernelspec": {
   "display_name": "Python 3",
   "language": "python",
   "name": "python3"
  },
  "language_info": {
   "codemirror_mode": {
    "name": "ipython",
    "version": 3
   },
   "file_extension": ".py",
   "mimetype": "text/x-python",
   "name": "python",
   "nbconvert_exporter": "python",
   "pygments_lexer": "ipython3",
   "version": "3.11.1"
  }
 },
 "nbformat": 4,
 "nbformat_minor": 2
}
